{
 "cells": [
  {
   "cell_type": "markdown",
   "metadata": {},
   "source": [
    "# Homework assignments (For who needs an exam grade)\n",
    "\n",
    "### We are given a dataset containing 510 images which are categorized according two main characteristics/properties: “C1” and “C2”. The following inputs are available:\n",
    "* #### `input image', a 110 × 110 × 3 real-valued tensor. The last dimension denotes the number of input channels; the images belong to different combinations of the two properties C1 and C2. For C1 and C2 we have 5 and 6 possible values, respectively;  among the 30 possible couples (C1,C2), we have images for only 24 of them. We have around 20 samples (little more or less) for each of the available couples;  values in each tensor entry are integers in [0, 255];\n",
    "* #### C1, string, the value for the C1 property. 5 possible values;\n",
    "* #### C2, string, the value for the C2 property. 6 possible values.\n",
    "\n",
    "### Design a deep neural network model to predict the class of an image, given by the couple (C1,C2).\n",
    "\n",
    "### Provide a sketch of each of the following points, then implement your solution.\n",
    "1. MODEL: Which architecture do you consider the most appropriate for this task, and why;\n",
    "2. INPUT:\n",
    "* After a potential preprocessing step, which is the input of the model, and\n",
    "how is it represented;\n",
    "3. OUTPUT: How would you design the output layer and why;\n",
    "4. LOSS: Which loss function would you use to train your model and why;\n",
    "5. MODEL CONFIGURATION:\n",
    " Model composition (composition of layers, regardless their number,\n",
    "or their dimension, which can be object of tuning)\n",
    "6. MODEL EVALUATION: How would you assess (in which setting) the\n",
    "generalization capabilities of the model on unseen data?\n"
   ]
  },
  {
   "cell_type": "code",
   "execution_count": 41,
   "metadata": {},
   "outputs": [],
   "source": [
    "import matplotlib.pyplot as plt\n",
    "import torch\n",
    "import torch.nn as nn\n",
    "import torch.nn.functional as F\n",
    "from torch.autograd import Variable\n",
    "import numpy as np\n",
    "import matplotlib.pyplot as plt\n",
    "from torchvision.transforms import ToTensor, Normalize, Compose"
   ]
  },
  {
   "cell_type": "code",
   "execution_count": 42,
   "metadata": {},
   "outputs": [
    {
     "name": "stdout",
     "output_type": "stream",
     "text": [
      "length image:510\n",
      "length C1:510\n",
      "length C2:510\n"
     ]
    }
   ],
   "source": [
    "import pickle as pk\n",
    "# Open the pickle data\n",
    "with open('input.pkl', 'rb') as f:\n",
    "  data = pk.load(f)\n",
    "\n",
    "images = data['imgs']\n",
    "C1 = data['C1']\n",
    "C2 = data['C2']\n",
    "print(f\"length image:{len(images)}\")\n",
    "print(f\"length C1:{len(C1)}\")\n",
    "print(f\"length C2:{len(C2)}\")"
   ]
  },
  {
   "cell_type": "code",
   "execution_count": 43,
   "metadata": {},
   "outputs": [
    {
     "name": "stdout",
     "output_type": "stream",
     "text": [
      "<class 'numpy.ndarray'>\n"
     ]
    }
   ],
   "source": [
    "print(type(images[0]))"
   ]
  },
  {
   "cell_type": "code",
   "execution_count": 44,
   "metadata": {},
   "outputs": [
    {
     "name": "stdout",
     "output_type": "stream",
     "text": [
      "(110, 110, 3)\n"
     ]
    }
   ],
   "source": [
    "print(images[0].shape)"
   ]
  },
  {
   "cell_type": "code",
   "execution_count": 45,
   "metadata": {},
   "outputs": [
    {
     "name": "stdout",
     "output_type": "stream",
     "text": [
      "{'shorts', 'pants', 'dress', 'shirt', 'shoes'} {'brown', 'blue', 'white', 'green', 'black', 'red'}\n"
     ]
    }
   ],
   "source": [
    "a = set(C1)\n",
    "b = set(C2)\n",
    "print(a, b)"
   ]
  },
  {
   "cell_type": "code",
   "execution_count": 46,
   "metadata": {},
   "outputs": [],
   "source": [
    "def get_class_labels_from_c1(list):\n",
    "    result = list.copy()\n",
    "    for i in range(len(list)):\n",
    "        obj = list[i]\n",
    "        if obj == 'dress':\n",
    "            c = 0\n",
    "        if obj == 'shoes':\n",
    "            c = 1\n",
    "        if obj == 'shirt':\n",
    "            c = 2\n",
    "        if obj == 'shorts':\n",
    "            c = 3\n",
    "        if obj == 'pants':\n",
    "            c = 4\n",
    "        result[i] = c\n",
    "    return result\n",
    "def get_class_labels_from_c2(list):\n",
    "    result = list.copy()\n",
    "    for i in range(len(list)):\n",
    "        obj = list[i]\n",
    "        if obj == 'black':\n",
    "            c = 0\n",
    "        if obj == 'red':\n",
    "            c = 1\n",
    "        if obj == 'white':\n",
    "            c = 2\n",
    "        if obj == 'blue':\n",
    "            c = 3\n",
    "        if obj == 'green':\n",
    "            c = 4\n",
    "        if obj == 'brown':\n",
    "            c = 5\n",
    "        result[i] = c\n",
    "    return result\n",
    "labels_c1 = get_class_labels_from_c1(C1)\n",
    "labels_c2 = get_class_labels_from_c2(C2)"
   ]
  },
  {
   "cell_type": "code",
   "execution_count": 47,
   "metadata": {},
   "outputs": [],
   "source": [
    "def show_img(i, images):\n",
    "    plt.imshow(images[i])\n",
    "    print(f'C1: {C1[i]}, C2: {C2[i]}')\n",
    "    plt.show()"
   ]
  },
  {
   "cell_type": "code",
   "execution_count": 48,
   "metadata": {},
   "outputs": [],
   "source": [
    "def swap(imgs):\n",
    "    swapped_imgs = imgs.copy()\n",
    "    for n in range(len(swapped_imgs)):\n",
    "        test_swapped = swapped_imgs[n].copy()\n",
    "        test_swapped[:,:,0], test_swapped[:,:,2] = swapped_imgs[n][:,:,2], swapped_imgs[n][:,:,0]\n",
    "        swapped_imgs[n] = test_swapped\n",
    "    return swapped_imgs\n"
   ]
  },
  {
   "cell_type": "code",
   "execution_count": 49,
   "metadata": {},
   "outputs": [],
   "source": [
    "proper_imgs = swap(images)"
   ]
  },
  {
   "cell_type": "code",
   "execution_count": 50,
   "metadata": {},
   "outputs": [
    {
     "name": "stdout",
     "output_type": "stream",
     "text": [
      "C1: dress, C2: black\n"
     ]
    },
    {
     "data": {
      "image/png": "[encoded data removed]",
      "text/plain": [
       "<Figure size 640x480 with 1 Axes>"
      ]
     },
     "metadata": {},
     "output_type": "display_data"
    }
   ],
   "source": [
    "for i in range(1):\n",
    "    show_img(i, proper_imgs)"
   ]
  },
  {
   "cell_type": "markdown",
   "metadata": {},
   "source": [
    "Creating custom dataset"
   ]
  },
  {
   "cell_type": "code",
   "execution_count": 51,
   "metadata": {},
   "outputs": [],
   "source": [
    "import torch\n",
    "from torch.utils.data import Dataset\n",
    "import numpy as np\n",
    "\n",
    "my_preprocess = Compose([ToTensor(),\n",
    "                        Normalize((0,), (1,))])\n",
    "\n",
    "class NumpyArrayDataset(Dataset):\n",
    "    def __init__(self, data, labels_c1, labels_c2, transform=None):\n",
    "        self.data = data\n",
    "        self.labels_c1 = labels_c1\n",
    "        self.labels_c2 = labels_c2\n",
    "        self.transform = transform\n",
    "\n",
    "    def __len__(self):\n",
    "        return len(self.data)\n",
    "\n",
    "    def __getitem__(self, index):\n",
    "        image = self.data[index]\n",
    "        label_c1 = self.labels_c1[index]\n",
    "        label_c2 = self.labels_c2[index]\n",
    "        if self.transform:\n",
    "            image = self.transform(image)\n",
    "        return image, label_c1, label_c2\n",
    "\n",
    "dataset = NumpyArrayDataset(proper_imgs, labels_c1, labels_c2,  my_preprocess)"
   ]
  },
  {
   "cell_type": "code",
   "execution_count": 52,
   "metadata": {},
   "outputs": [
    {
     "data": {
      "text/plain": [
       "(450, 60)"
      ]
     },
     "execution_count": 52,
     "metadata": {},
     "output_type": "execute_result"
    }
   ],
   "source": [
    "# possibly extract a validation dataset\n",
    "from torch.utils.data import random_split\n",
    "val_size = 60\n",
    "\n",
    "# for reproducibility\n",
    "torch.manual_seed(1)\n",
    "\n",
    "train_size = len(dataset) - val_size\n",
    "train_data, val_data = random_split(dataset, [train_size, val_size])\n",
    "len(train_data), len(val_data)"
   ]
  },
  {
   "cell_type": "markdown",
   "metadata": {},
   "source": [
    "Creating Dataloader"
   ]
  },
  {
   "cell_type": "code",
   "execution_count": 53,
   "metadata": {},
   "outputs": [
    {
     "name": "stdout",
     "output_type": "stream",
     "text": [
      "Batch inputs shape: torch.Size([128, 3, 110, 110]), Batch labels shape: C1 torch.Size([128]), C2 torch.Size([128])\n"
     ]
    }
   ],
   "source": [
    "# we'll use a batch size of 128 for training our network\n",
    "batch_size = 128\n",
    "\n",
    "# initialize a DataLoader object for each dataset\n",
    "train_dataloader = torch.utils.data.DataLoader(train_data,\n",
    "                                               batch_size=batch_size,\n",
    "                                               shuffle=True)\n",
    "val_dataloader = torch.utils.data.DataLoader(val_data,\n",
    "                                               batch_size=batch_size)\n",
    "\n",
    "\n",
    "\n",
    "# grab the first batch from one of our DataLoader objects\n",
    "example_batch_img, example_batch_label_c1, example_batch_label_c2 = next(iter(train_dataloader))\n",
    "\n",
    "# inputs and labels are batched together as tensor objects\n",
    "print(f\"Batch inputs shape: {example_batch_img.shape}, Batch labels shape: C1 {example_batch_label_c1.shape}, C2 {example_batch_label_c2.shape}\")"
   ]
  },
  {
   "cell_type": "markdown",
   "metadata": {},
   "source": [
    "Creating a model"
   ]
  },
  {
   "cell_type": "code",
   "execution_count": 54,
   "metadata": {},
   "outputs": [],
   "source": [
    "class CNN(nn.Module):\n",
    "    def __init__(self):\n",
    "        super(CNN, self).__init__()\n",
    "        self.conv1 = nn.Conv2d(in_channels=3,\n",
    "                               out_channels=32,\n",
    "                               kernel_size = 3,\n",
    "                               padding='same')\n",
    "        self.conv2 = nn.Conv2d(in_channels=32,\n",
    "                               out_channels=64,\n",
    "                               kernel_size = 3,\n",
    "                               padding='same')\n",
    "        self.conv3 = nn.Conv2d(in_channels=64,\n",
    "                               out_channels=128,\n",
    "                               kernel_size = 3,\n",
    "                               padding='same')\n",
    "        self.dropout1 = nn.Dropout(0.25)\n",
    "        self.dropout2 = nn.Dropout(0.25)\n",
    "        self.dropout3 = nn.Dropout(0.25)\n",
    "        self.maxpool2d = nn.MaxPool2d(kernel_size=2, stride=2)\n",
    "        self.fc_c1 = nn.Linear(21632, 5)\n",
    "        self.fc_c2 = nn.Linear(21632, 6)\n",
    "    def forward(self, x):\n",
    "        #print('zaczyna sie forward. x.shape = ', x.shape)\n",
    "        x = self.conv1(x)\n",
    "        x = F.relu(x)\n",
    "        x = self.maxpool2d(x)\n",
    "        x = self.dropout1(x)\n",
    "        #x = self.relu(x)\n",
    "        x = self.conv2(x)\n",
    "        x = F.relu(x)\n",
    "        x = self.maxpool2d(x)\n",
    "        x = self.dropout2(x)\n",
    "        x = self.conv3(x)\n",
    "        x = F.relu(x)\n",
    "        x = self.maxpool2d(x)\n",
    "        x = self.dropout3(x)\n",
    "        #print(x.shape)\n",
    "        x = torch.flatten(x, 1)\n",
    "        #print(x.shape)\n",
    "        c1_class = self.fc_c1(x)\n",
    "        c2_class = self.fc_c2(x)\n",
    "        output_c1 = F.log_softmax(c1_class, dim=1)\n",
    "        output_c2 = F.log_softmax(c2_class, dim=1)\n",
    "        return output_c1, output_c2"
   ]
  },
  {
   "cell_type": "code",
   "execution_count": 55,
   "metadata": {},
   "outputs": [
    {
     "name": "stdout",
     "output_type": "stream",
     "text": [
      "CNN(\n",
      "  (conv1): Conv2d(3, 32, kernel_size=(3, 3), stride=(1, 1), padding=same)\n",
      "  (conv2): Conv2d(32, 64, kernel_size=(3, 3), stride=(1, 1), padding=same)\n",
      "  (conv3): Conv2d(64, 128, kernel_size=(3, 3), stride=(1, 1), padding=same)\n",
      "  (dropout1): Dropout(p=0.25, inplace=False)\n",
      "  (dropout2): Dropout(p=0.25, inplace=False)\n",
      "  (dropout3): Dropout(p=0.25, inplace=False)\n",
      "  (maxpool2d): MaxPool2d(kernel_size=2, stride=2, padding=0, dilation=1, ceil_mode=False)\n",
      "  (fc_c1): Linear(in_features=21632, out_features=5, bias=True)\n",
      "  (fc_c2): Linear(in_features=21632, out_features=6, bias=True)\n",
      ")\n",
      "torch.Size([128, 6])\n"
     ]
    }
   ],
   "source": [
    "#Creating the model\n",
    "model = CNN()\n",
    "print(model)\n",
    "\n",
    "# calling the method on one batch\n",
    "it = iter(train_dataloader)\n",
    "X_batch, y_batch_c1, y_batch_c2 = next(it)\n",
    "print((model.forward(X_batch))[1].shape)"
   ]
  },
  {
   "cell_type": "markdown",
   "metadata": {},
   "source": [
    "Training"
   ]
  },
  {
   "cell_type": "code",
   "execution_count": 64,
   "metadata": {},
   "outputs": [],
   "source": [
    "# Computing the accuracy of a test set\n",
    "def evaluate(model, test_loader, error):\n",
    "#model = mlpinplace=False\n",
    "    #print('evaluate start')\n",
    "    model.eval()\n",
    "    with torch.no_grad():\n",
    "        correct_c1 = 0\n",
    "        correct_c2 = 0\n",
    "        correct_c1_and_c2 = 0\n",
    "        cur_loss = 0\n",
    "        #print('wchodze do petli')\n",
    "        for test_imgs, test_labels_c1, test_labels_c2 in test_loader:\n",
    "            output_c1, output_c2 = model(test_imgs)\n",
    "            #test_labels = torch.squeeze(test_labels)\n",
    "            #test_labels = test_labels.long()\n",
    "            loss_c1 = error(output_c1, test_labels_c1)\n",
    "            loss_c2 = error(output_c2, test_labels_c2)\n",
    "            loss = loss_c1 + loss_c2\n",
    "            #loss = error(output, test_labels)\n",
    "            cur_loss+=loss.item()\n",
    "            predicted_c1 = torch.max(output_c1,1)[1]\n",
    "            predicted_c2 = torch.max(output_c2,1)[1]\n",
    "            correct_c1 += (predicted_c1 == test_labels_c1).sum()\n",
    "            correct_c2 += (predicted_c2 == test_labels_c2).sum()\n",
    "            correct_c1_and_c2 += (((predicted_c2 == test_labels_c2) * (predicted_c1 == test_labels_c1))).sum()\n",
    "    model.train()\n",
    "    return cur_loss/len(test_loader.dataset), correct_c1/len(test_loader.dataset), correct_c2/len(test_loader.dataset), correct_c1_and_c2/len(test_loader.dataset)\n",
    "\n",
    "\n",
    "\n",
    "#training the model\n",
    "def fit(model, train_loader, error, test_loader, epochs):\n",
    "    optimizer = torch.optim.Adam(model.parameters(),lr=0.001)#,lr=0.001, betas=(0.9,0.999))\n",
    "\n",
    "\n",
    "    model.train()\n",
    "    train_losses = []\n",
    "    test_losses = []\n",
    "\n",
    "    for epoch in range(epochs):\n",
    "        cur_loss = 0\n",
    "        correct = 0\n",
    "        for X_batch, y_batch_c1, y_batch_c2 in train_loader:\n",
    "            optimizer.zero_grad()\n",
    "            output_c1, output_c2 = model(X_batch)\n",
    "            loss_c1 = error(output_c1, y_batch_c1)\n",
    "            loss_c2 = error(output_c2, y_batch_c2)\n",
    "            loss = loss_c1 + loss_c2\n",
    "            cur_loss+= loss.item()\n",
    "            loss.backward()\n",
    "            optimizer.step()\n",
    "\n",
    "        train_losses.append(cur_loss/len(train_loader.dataset))\n",
    "\n",
    "        test_loss, accuracy_c1, accuracy_c2, accuracy_c1_and_c2 = evaluate(model, test_loader, error)\n",
    "        test_losses.append(test_loss)\n",
    "        print(f'Epoch : {epoch},  train loss:{train_losses[-1]}, test loss:{test_losses[-1]}, accuracy C1 = {accuracy_c1}, accuracy C2 = {accuracy_c2}, Joint accuracy = {accuracy_c1_and_c2}')\n",
    "\n",
    "    return train_losses, test_losses"
   ]
  },
  {
   "cell_type": "code",
   "execution_count": 65,
   "metadata": {},
   "outputs": [
    {
     "name": "stdout",
     "output_type": "stream",
     "text": [
      "Epoch : 0,  train loss:0.033005936410692, test loss:0.05608216921488444, accuracy C1 = 0.2666666805744171, accuracy C2 = 0.30000001192092896, Joint accuracy = 0.05000000074505806\n",
      "Epoch : 1,  train loss:0.030137933095296224, test loss:0.05633821487426758, accuracy C1 = 0.2666666805744171, accuracy C2 = 0.20000000298023224, Joint accuracy = 0.05000000074505806\n",
      "Epoch : 2,  train loss:0.029419060283237035, test loss:0.0554150660832723, accuracy C1 = 0.28333333134651184, accuracy C2 = 0.15000000596046448, Joint accuracy = 0.03333333507180214\n",
      "Epoch : 3,  train loss:0.027944825490315756, test loss:0.05132723251978556, accuracy C1 = 0.44999998807907104, accuracy C2 = 0.4833333194255829, Joint accuracy = 0.18333333730697632\n",
      "Epoch : 4,  train loss:0.025273303985595703, test loss:0.04581573009490967, accuracy C1 = 0.4000000059604645, accuracy C2 = 0.5166666507720947, Joint accuracy = 0.20000000298023224\n",
      "Epoch : 5,  train loss:0.020654829872979057, test loss:0.03849393526713053, accuracy C1 = 0.5333333611488342, accuracy C2 = 0.550000011920929, Joint accuracy = 0.3499999940395355\n",
      "Epoch : 6,  train loss:0.018043958610958522, test loss:0.03291827440261841, accuracy C1 = 0.5666666626930237, accuracy C2 = 0.6333333253860474, Joint accuracy = 0.3333333432674408\n",
      "Epoch : 7,  train loss:0.016272092660268148, test loss:0.03283817172050476, accuracy C1 = 0.5166666507720947, accuracy C2 = 0.5833333134651184, Joint accuracy = 0.3166666626930237\n",
      "Epoch : 8,  train loss:0.014387240409851074, test loss:0.027864511807759604, accuracy C1 = 0.7166666388511658, accuracy C2 = 0.7166666388511658, Joint accuracy = 0.5333333611488342\n",
      "Epoch : 9,  train loss:0.012990431520673964, test loss:0.029468937714894613, accuracy C1 = 0.5833333134651184, accuracy C2 = 0.6666666865348816, Joint accuracy = 0.44999998807907104\n",
      "Epoch : 10,  train loss:0.01183113521999783, test loss:0.023492948214213053, accuracy C1 = 0.7333333492279053, accuracy C2 = 0.7833333611488342, Joint accuracy = 0.6166666746139526\n",
      "Epoch : 11,  train loss:0.011039930449591742, test loss:0.02518607974052429, accuracy C1 = 0.6166666746139526, accuracy C2 = 0.7833333611488342, Joint accuracy = 0.550000011920929\n",
      "Epoch : 12,  train loss:0.010011163155237833, test loss:0.022151277462641398, accuracy C1 = 0.7666666507720947, accuracy C2 = 0.7666666507720947, Joint accuracy = 0.6166666746139526\n",
      "Epoch : 13,  train loss:0.008789136409759521, test loss:0.022028541564941405, accuracy C1 = 0.6666666865348816, accuracy C2 = 0.8166666626930237, Joint accuracy = 0.5666666626930237\n",
      "Epoch : 14,  train loss:0.007659938335418701, test loss:0.02121093273162842, accuracy C1 = 0.75, accuracy C2 = 0.8333333134651184, Joint accuracy = 0.6666666865348816\n",
      "Epoch : 15,  train loss:0.007071121268802219, test loss:0.022517081101735434, accuracy C1 = 0.75, accuracy C2 = 0.7666666507720947, Joint accuracy = 0.6166666746139526\n",
      "Epoch : 16,  train loss:0.0067463352945115835, test loss:0.02144673268000285, accuracy C1 = 0.7333333492279053, accuracy C2 = 0.8500000238418579, Joint accuracy = 0.6666666865348816\n",
      "Epoch : 17,  train loss:0.0059499516752031115, test loss:0.019632881879806517, accuracy C1 = 0.7666666507720947, accuracy C2 = 0.8500000238418579, Joint accuracy = 0.6833333373069763\n",
      "Epoch : 18,  train loss:0.005078195929527283, test loss:0.02090839942296346, accuracy C1 = 0.699999988079071, accuracy C2 = 0.8166666626930237, Joint accuracy = 0.6000000238418579\n",
      "Epoch : 19,  train loss:0.005112594299846225, test loss:0.021456873416900633, accuracy C1 = 0.7333333492279053, accuracy C2 = 0.8333333134651184, Joint accuracy = 0.6333333253860474\n",
      "Epoch : 20,  train loss:0.005318885578049554, test loss:0.020679593086242676, accuracy C1 = 0.6833333373069763, accuracy C2 = 0.8666666746139526, Joint accuracy = 0.6166666746139526\n",
      "Epoch : 21,  train loss:0.004503584305445354, test loss:0.02226046919822693, accuracy C1 = 0.7166666388511658, accuracy C2 = 0.8333333134651184, Joint accuracy = 0.6499999761581421\n",
      "Epoch : 22,  train loss:0.004443702432844374, test loss:0.02028660774230957, accuracy C1 = 0.75, accuracy C2 = 0.800000011920929, Joint accuracy = 0.6333333253860474\n",
      "Epoch : 23,  train loss:0.003586787846353319, test loss:0.021290008227030435, accuracy C1 = 0.6666666865348816, accuracy C2 = 0.8333333134651184, Joint accuracy = 0.6000000238418579\n",
      "Epoch : 24,  train loss:0.0030275425646040174, test loss:0.02117035388946533, accuracy C1 = 0.699999988079071, accuracy C2 = 0.8166666626930237, Joint accuracy = 0.6000000238418579\n"
     ]
    }
   ],
   "source": [
    "epochs = 25\n",
    "model = CNN()\n",
    "error = nn.CrossEntropyLoss() # Loss for multiclass classification\n",
    "train_losses, test_losses = fit(model,train_dataloader, error, val_dataloader, epochs)"
   ]
  },
  {
   "cell_type": "markdown",
   "metadata": {},
   "source": [
    "Chack if new version was uploaded"
   ]
  },
  {
   "cell_type": "code",
   "execution_count": 66,
   "metadata": {},
   "outputs": [
    {
     "data": {
      "text/plain": [
       "<Figure size 640x480 with 0 Axes>"
      ]
     },
     "execution_count": 66,
     "metadata": {},
     "output_type": "execute_result"
    },
    {
     "data": {
      "image/png": "[encoded data removed]",
      "text/plain": [
       "<Figure size 640x480 with 1 Axes>"
      ]
     },
     "metadata": {},
     "output_type": "display_data"
    },
    {
     "data": {
      "text/plain": [
       "<Figure size 640x480 with 0 Axes>"
      ]
     },
     "metadata": {},
     "output_type": "display_data"
    }
   ],
   "source": [
    "import matplotlib.pyplot as plt\n",
    "plt.plot(train_losses,label=\"training loss\")\n",
    "plt.plot(test_losses,label=\"testing loss\")\n",
    "plt.legend(fontsize=15)\n",
    "plt.xlabel('Epoch', fontsize=20)\n",
    "plt.ylabel('Loss', fontsize=20)\n",
    "plt.xticks(fontsize=15)\n",
    "plt.yticks(fontsize=15)\n",
    "plt.figure()"
   ]
  }
 ],
 "metadata": {
  "kernelspec": {
   "display_name": "Python 3",
   "language": "python",
   "name": "python3"
  },
  "language_info": {
   "codemirror_mode": {
    "name": "ipython",
    "version": 3
   },
   "file_extension": ".py",
   "mimetype": "text/x-python",
   "name": "python",
   "nbconvert_exporter": "python",
   "pygments_lexer": "ipython3",
   "version": "3.10.3"
  }
 },
 "nbformat": 4,
 "nbformat_minor": 2
}
