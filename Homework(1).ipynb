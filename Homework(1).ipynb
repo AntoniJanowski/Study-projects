{
 "cells": [
  {
   "cell_type": "markdown",
   "metadata": {},
   "source": [
    "# Homework assignments (For who needs an exam grade)\n",
    "\n",
    "### We are given a dataset containing 510 images which are categorized according two main characteristics/properties: “C1” and “C2”. The following inputs are available:\n",
    "* #### `input image', a 110 × 110 × 3 real-valued tensor. The last dimension denotes the number of input channels; the images belong to different combinations of the two properties C1 and C2. For C1 and C2 we have 5 and 6 possible values, respectively;  among the 30 possible couples (C1,C2), we have images for only 24 of them. We have around 20 samples (little more or less) for each of the available couples;  values in each tensor entry are integers in [0, 255];\n",
    "* #### C1, string, the value for the C1 property. 5 possible values;\n",
    "* #### C2, string, the value for the C2 property. 6 possible values.\n",
    "\n",
    "### Design a deep neural network model to predict the class of an image, given by the couple (C1,C2).\n",
    "\n",
    "### Provide a sketch of each of the following points, then implement your solution.\n",
    "1. MODEL: Which architecture do you consider the most appropriate for this task, and why;\n",
    "2. INPUT:\n",
    "* After a potential preprocessing step, which is the input of the model, and\n",
    "how is it represented;\n",
    "3. OUTPUT: How would you design the output layer and why;\n",
    "4. LOSS: Which loss function would you use to train your model and why;\n",
    "5. MODEL CONFIGURATION:\n",
    " Model composition (composition of layers, regardless their number,\n",
    "or their dimension, which can be object of tuning)\n",
    "6. MODEL EVALUATION: How would you assess (in which setting) the\n",
    "generalization capabilities of the model on unseen data?\n"
   ]
  },
  {
   "cell_type": "markdown",
   "metadata": {},
   "source": [
    "My solution:\n",
    "\n",
    "1. I will use a convolutional network. It is a imige clasification task, so a convolutional network that can extract important information using positional information seems fit for the task. I will use simple convolutional infrastructure, that gradualy deecreses the volume of data by 0.5 every step. Then, in the last step I will have 2 clasification heads that will separatly try to clasyfy the C1 class and the C2 class. This way, when the model faces unknown data, it may still be able to corectly clasify at least some labels (eg if it has seen color red during training, but not pands, it will be able to corectly say that the red pants it sees are red).\n",
    "2. The imput is a picture, that is a tensor of dimensions [B, C, W, H]. The first two dimensions corespond to batch and channels. It contains float numbers and has been rescailed to be between 0 and 1.\n",
    "3. The output layers are 2 linear layers. Linear layer is a standard way to clasyfi data, using eariel results from a convolutional network. I explain why I use 2 of them above.\n",
    "4. I use a multi class cross entropy loss. It is a standard loss function for claasification tasks. I calculate the loss for 2 heads separetly and them sum it up.\n",
    "5. The model consists of convolutional layers, with relu activatio function and dropout and batch norm added for regularyzation. Then, there are 2 linear layers for final clasification.\n",
    "6. I belive the model will not be albe to generalize corectly (apart from type of situations described in point 1)"
   ]
  },
  {
   "cell_type": "code",
   "execution_count": 21,
   "metadata": {},
   "outputs": [],
   "source": [
    "import matplotlib.pyplot as plt\n",
    "import torch\n",
    "import torch.nn as nn\n",
    "import torch.nn.functional as F\n",
    "from torch.autograd import Variable\n",
    "import numpy as np\n",
    "import matplotlib.pyplot as plt\n",
    "from torchvision.transforms import ToTensor, Normalize, Compose"
   ]
  },
  {
   "cell_type": "code",
   "execution_count": 22,
   "metadata": {},
   "outputs": [
    {
     "name": "stdout",
     "output_type": "stream",
     "text": [
      "length image:510\n",
      "length C1:510\n",
      "length C2:510\n"
     ]
    }
   ],
   "source": [
    "import pickle as pk\n",
    "# Open the pickle data\n",
    "with open('input.pkl', 'rb') as f:\n",
    "  data = pk.load(f)\n",
    "\n",
    "images = data['imgs']\n",
    "C1 = data['C1']\n",
    "C2 = data['C2']\n",
    "print(f\"length image:{len(images)}\")\n",
    "print(f\"length C1:{len(C1)}\")\n",
    "print(f\"length C2:{len(C2)}\")"
   ]
  },
  {
   "cell_type": "markdown",
   "metadata": {},
   "source": [
    "Lets take a quick look at the data"
   ]
  },
  {
   "cell_type": "code",
   "execution_count": 23,
   "metadata": {},
   "outputs": [
    {
     "name": "stdout",
     "output_type": "stream",
     "text": [
      "<class 'numpy.ndarray'>\n"
     ]
    }
   ],
   "source": [
    "print(type(images[0]))"
   ]
  },
  {
   "cell_type": "code",
   "execution_count": 24,
   "metadata": {},
   "outputs": [
    {
     "name": "stdout",
     "output_type": "stream",
     "text": [
      "(110, 110, 3)\n"
     ]
    }
   ],
   "source": [
    "print(images[0].shape)"
   ]
  },
  {
   "cell_type": "code",
   "execution_count": 25,
   "metadata": {},
   "outputs": [
    {
     "name": "stdout",
     "output_type": "stream",
     "text": [
      "{'shirt', 'pants', 'shorts', 'dress', 'shoes'} {'blue', 'black', 'red', 'white', 'brown', 'green'}\n"
     ]
    }
   ],
   "source": [
    "a = set(C1)\n",
    "b = set(C2)\n",
    "print(a, b)"
   ]
  },
  {
   "cell_type": "markdown",
   "metadata": {},
   "source": [
    "Lets define some helper function to pre proces the data"
   ]
  },
  {
   "cell_type": "code",
   "execution_count": 26,
   "metadata": {},
   "outputs": [],
   "source": [
    "def get_class_labels_from_c1(list):\n",
    "    result = list.copy()\n",
    "    for i in range(len(list)):\n",
    "        obj = list[i]\n",
    "        if obj == 'dress':\n",
    "            c = 0\n",
    "        if obj == 'shoes':\n",
    "            c = 1\n",
    "        if obj == 'shirt':\n",
    "            c = 2\n",
    "        if obj == 'shorts':\n",
    "            c = 3\n",
    "        if obj == 'pants':\n",
    "            c = 4\n",
    "        result[i] = c\n",
    "    return result\n",
    "def get_class_labels_from_c2(list):\n",
    "    result = list.copy()\n",
    "    for i in range(len(list)):\n",
    "        obj = list[i]\n",
    "        if obj == 'black':\n",
    "            c = 0\n",
    "        if obj == 'red':\n",
    "            c = 1\n",
    "        if obj == 'white':\n",
    "            c = 2\n",
    "        if obj == 'blue':\n",
    "            c = 3\n",
    "        if obj == 'green':\n",
    "            c = 4\n",
    "        if obj == 'brown':\n",
    "            c = 5\n",
    "        result[i] = c\n",
    "    return result\n",
    "labels_c1 = get_class_labels_from_c1(C1)\n",
    "labels_c2 = get_class_labels_from_c2(C2)"
   ]
  },
  {
   "cell_type": "code",
   "execution_count": 27,
   "metadata": {},
   "outputs": [],
   "source": [
    "def show_img(i, images):\n",
    "    plt.imshow(images[i])\n",
    "    print(f'C1: {C1[i]}, C2: {C2[i]}')\n",
    "    plt.show()"
   ]
  },
  {
   "cell_type": "code",
   "execution_count": 28,
   "metadata": {},
   "outputs": [],
   "source": [
    "def swap(imgs):\n",
    "    swapped_imgs = imgs.copy()\n",
    "    for n in range(len(swapped_imgs)):\n",
    "        test_swapped = swapped_imgs[n].copy()\n",
    "        test_swapped[:,:,0], test_swapped[:,:,2] = swapped_imgs[n][:,:,2], swapped_imgs[n][:,:,0]\n",
    "        swapped_imgs[n] = test_swapped\n",
    "    return swapped_imgs\n"
   ]
  },
  {
   "cell_type": "code",
   "execution_count": 29,
   "metadata": {},
   "outputs": [],
   "source": [
    "proper_imgs = swap(images)"
   ]
  },
  {
   "cell_type": "markdown",
   "metadata": {},
   "source": [
    "Lets look at an example of our data"
   ]
  },
  {
   "cell_type": "code",
   "execution_count": 30,
   "metadata": {},
   "outputs": [
    {
     "name": "stdout",
     "output_type": "stream",
     "text": [
      "C1: dress, C2: black\n"
     ]
    },
    {
     "data": {
      "image/png": "[encoded data removed]",
      "text/plain": [
       "<Figure size 640x480 with 1 Axes>"
      ]
     },
     "metadata": {},
     "output_type": "display_data"
    }
   ],
   "source": [
    "for i in range(1):\n",
    "    show_img(i, proper_imgs)"
   ]
  },
  {
   "cell_type": "markdown",
   "metadata": {},
   "source": [
    "Creating custom dataset"
   ]
  },
  {
   "cell_type": "code",
   "execution_count": 31,
   "metadata": {},
   "outputs": [],
   "source": [
    "import torch\n",
    "from torch.utils.data import Dataset\n",
    "import numpy as np\n",
    "\n",
    "my_preprocess = Compose([ToTensor(),\n",
    "                        Normalize((0,), (1,))])\n",
    "\n",
    "class NumpyArrayDataset(Dataset):\n",
    "    def __init__(self, data, labels_c1, labels_c2, transform=None):\n",
    "        self.data = data\n",
    "        self.labels_c1 = labels_c1\n",
    "        self.labels_c2 = labels_c2\n",
    "        self.transform = transform\n",
    "\n",
    "    def __len__(self):\n",
    "        return len(self.data)\n",
    "\n",
    "    def __getitem__(self, index):\n",
    "        image = self.data[index]\n",
    "        label_c1 = self.labels_c1[index]\n",
    "        label_c2 = self.labels_c2[index]\n",
    "        if self.transform:\n",
    "            image = self.transform(image)\n",
    "        return image, label_c1, label_c2\n",
    "\n",
    "dataset = NumpyArrayDataset(proper_imgs, labels_c1, labels_c2,  my_preprocess)"
   ]
  },
  {
   "cell_type": "code",
   "execution_count": 32,
   "metadata": {},
   "outputs": [
    {
     "data": {
      "text/plain": [
       "(450, 60)"
      ]
     },
     "execution_count": 32,
     "metadata": {},
     "output_type": "execute_result"
    }
   ],
   "source": [
    "# possibly extract a validation dataset\n",
    "from torch.utils.data import random_split\n",
    "val_size = 60\n",
    "\n",
    "# for reproducibility\n",
    "torch.manual_seed(1)\n",
    "\n",
    "train_size = len(dataset) - val_size\n",
    "train_data, val_data = random_split(dataset, [train_size, val_size])\n",
    "len(train_data), len(val_data)"
   ]
  },
  {
   "cell_type": "markdown",
   "metadata": {},
   "source": [
    "Creating Dataloader"
   ]
  },
  {
   "cell_type": "code",
   "execution_count": 33,
   "metadata": {},
   "outputs": [
    {
     "name": "stdout",
     "output_type": "stream",
     "text": [
      "Batch inputs shape: torch.Size([128, 3, 110, 110]), Batch labels shape: C1 torch.Size([128]), C2 torch.Size([128])\n"
     ]
    }
   ],
   "source": [
    "# we'll use a batch size of 128 for training our network\n",
    "batch_size = 128\n",
    "\n",
    "# initialize a DataLoader object for each dataset\n",
    "train_dataloader = torch.utils.data.DataLoader(train_data,\n",
    "                                               batch_size=batch_size,\n",
    "                                               shuffle=True)\n",
    "val_dataloader = torch.utils.data.DataLoader(val_data,\n",
    "                                               batch_size=batch_size)\n",
    "\n",
    "\n",
    "\n",
    "# grab the first batch from one of our DataLoader objects\n",
    "example_batch_img, example_batch_label_c1, example_batch_label_c2 = next(iter(train_dataloader))\n",
    "\n",
    "# inputs and labels are batched together as tensor objects\n",
    "print(f\"Batch inputs shape: {example_batch_img.shape}, Batch labels shape: C1 {example_batch_label_c1.shape}, C2 {example_batch_label_c2.shape}\")"
   ]
  },
  {
   "cell_type": "markdown",
   "metadata": {},
   "source": [
    "Creating a model"
   ]
  },
  {
   "cell_type": "code",
   "execution_count": 45,
   "metadata": {},
   "outputs": [],
   "source": [
    "class CNN(nn.Module):\n",
    "    def __init__(self):\n",
    "        super(CNN, self).__init__()\n",
    "        self.conv1 = nn.Conv2d(in_channels=3,\n",
    "                               out_channels=32,\n",
    "                               kernel_size = 3,\n",
    "                               padding='same')\n",
    "        self.conv12 = nn.Conv2d(in_channels=32,\n",
    "                               out_channels=32,\n",
    "                               kernel_size = 3,\n",
    "                               padding='same')\n",
    "        self.conv2 = nn.Conv2d(in_channels=32,\n",
    "                               out_channels=64,\n",
    "                               kernel_size = 3,\n",
    "                               padding='same')\n",
    "        self.conv22 = nn.Conv2d(in_channels=64,\n",
    "                               out_channels=64,\n",
    "                               kernel_size = 3,\n",
    "                               padding='same')\n",
    "        self.conv3 = nn.Conv2d(in_channels=64,\n",
    "                               out_channels=128,\n",
    "                               kernel_size = 3,\n",
    "                               padding='same')\n",
    "        self.conv32 = nn.Conv2d(in_channels=128,\n",
    "                               out_channels=128,\n",
    "                               kernel_size = 3,\n",
    "                               padding='same')\n",
    "        self.dropout1 = nn.Dropout(0.25)\n",
    "        self.dropout2 = nn.Dropout(0.25)\n",
    "        self.dropout3 = nn.Dropout(0.25)\n",
    "        self.dropout12 = nn.Dropout(0.25)\n",
    "        self.dropout22 = nn.Dropout(0.25)\n",
    "        self.dropout32 = nn.Dropout(0.25)\n",
    "        self.maxpool2d = nn.MaxPool2d(kernel_size=2, stride=2)\n",
    "        self.fc_c1_hidden = nn.Linear(21632, 100)\n",
    "        self.fc_c2_hidden = nn.Linear(21632, 100)\n",
    "        self.fc_c1 = nn.Linear(100, 5)\n",
    "        self.fc_c2 = nn.Linear(100, 6)\n",
    "        #self.batch_norm1 = nn.BatchNorm2d(32)\n",
    "        #self.batch_norm2 = nn.BatchNorm2d(64)\n",
    "        #self.batch_norm3 = nn.BatchNorm2d(128)\n",
    "    def forward(self, x):\n",
    "        #print('zaczyna sie forward. x.shape = ', x.shape)\n",
    "\n",
    "        x = self.conv1(x)\n",
    "        #x = self.batch_norm1(x)\n",
    "        x = F.relu(x)\n",
    "        x = self.conv12(x)\n",
    "        x = self.dropout1(x)\n",
    "        x = F.relu(x)\n",
    "        x = self.maxpool2d(x)\n",
    "        x = self.dropout12(x)\n",
    "        #x = self.relu(x)\n",
    "        x = self.conv2(x)\n",
    "        #x = self.batch_norm2(x)\n",
    "        x = self.dropout2(x)\n",
    "        x = F.relu(x)\n",
    "        x = self.conv22(x)\n",
    "        x = F.relu(x)\n",
    "        x = self.maxpool2d(x)\n",
    "        x = self.dropout22(x)\n",
    "        x = self.conv3(x)\n",
    "        #x = self.batch_norm3(x)\n",
    "        x = self.dropout3(x)\n",
    "        x = F.relu(x)\n",
    "        x = self.conv32(x)\n",
    "        x = F.relu(x)\n",
    "        x = self.maxpool2d(x)\n",
    "        x = self.dropout32(x)\n",
    "        #print(x.shape)\n",
    "        x = torch.flatten(x, 1)\n",
    "        #print(x.shape)\n",
    "        c1_class = self.fc_c1_hidden(x)\n",
    "        c2_class = self.fc_c2_hidden(x)\n",
    "        c1_class = F.relu(c1_class)\n",
    "        c2_class = F.relu(c2_class)\n",
    "        c1_class = self.fc_c1(c1_class)\n",
    "        c2_class = self.fc_c2(c2_class)\n",
    "        output_c1 = F.log_softmax(c1_class, dim=1)\n",
    "        output_c2 = F.log_softmax(c2_class, dim=1)\n",
    "        return output_c1, output_c2"
   ]
  },
  {
   "cell_type": "markdown",
   "metadata": {},
   "source": [
    "Training"
   ]
  },
  {
   "cell_type": "code",
   "execution_count": 36,
   "metadata": {},
   "outputs": [],
   "source": [
    "# Computing the accuracy of a test set\n",
    "def evaluate(model, test_loader, error):\n",
    "#model = mlpinplace=False\n",
    "    #print('evaluate start')\n",
    "    model.eval()\n",
    "    with torch.no_grad():\n",
    "        correct_c1 = 0\n",
    "        correct_c2 = 0\n",
    "        correct_c1_and_c2 = 0\n",
    "        cur_loss = 0\n",
    "        #print('wchodze do petli')\n",
    "        for test_imgs, test_labels_c1, test_labels_c2 in test_loader:\n",
    "            output_c1, output_c2 = model(test_imgs)\n",
    "            #test_labels = torch.squeeze(test_labels)\n",
    "            #test_labels = test_labels.long()\n",
    "            loss_c1 = error(output_c1, test_labels_c1)\n",
    "            loss_c2 = error(output_c2, test_labels_c2)\n",
    "            loss = loss_c1 + loss_c2\n",
    "            #loss = error(output, test_labels)\n",
    "            cur_loss+=loss.item()\n",
    "            predicted_c1 = torch.max(output_c1,1)[1]\n",
    "            predicted_c2 = torch.max(output_c2,1)[1]\n",
    "            correct_c1 += (predicted_c1 == test_labels_c1).sum()\n",
    "            correct_c2 += (predicted_c2 == test_labels_c2).sum()\n",
    "            correct_c1_and_c2 += (((predicted_c2 == test_labels_c2) * (predicted_c1 == test_labels_c1))).sum()\n",
    "    model.train()\n",
    "    return cur_loss/len(test_loader.dataset), correct_c1/len(test_loader.dataset), correct_c2/len(test_loader.dataset), correct_c1_and_c2/len(test_loader.dataset)\n",
    "\n",
    "\n",
    "\n",
    "#training the model\n",
    "def fit(model, train_loader, error, test_loader, epochs):\n",
    "    optimizer = torch.optim.Adam(model.parameters(),lr=0.001)#,lr=0.001, betas=(0.9,0.999))\n",
    "\n",
    "\n",
    "    model.train()\n",
    "    train_losses = []\n",
    "    test_losses = []\n",
    "\n",
    "    for epoch in range(epochs):\n",
    "        cur_loss = 0\n",
    "        correct = 0\n",
    "        for X_batch, y_batch_c1, y_batch_c2 in train_loader:\n",
    "            optimizer.zero_grad()\n",
    "            output_c1, output_c2 = model(X_batch)\n",
    "            loss_c1 = error(output_c1, y_batch_c1)\n",
    "            loss_c2 = error(output_c2, y_batch_c2)\n",
    "            loss = loss_c1 + loss_c2\n",
    "            cur_loss+= loss.item()\n",
    "            loss.backward()\n",
    "            optimizer.step()\n",
    "\n",
    "        train_losses.append(cur_loss/len(train_loader.dataset))\n",
    "\n",
    "        test_loss, accuracy_c1, accuracy_c2, accuracy_c1_and_c2 = evaluate(model, test_loader, error)\n",
    "        test_losses.append(test_loss)\n",
    "        print(f'Epoch : {epoch},  train loss:{train_losses[-1]}, test loss:{test_losses[-1]}, accuracy C1 = {accuracy_c1}, accuracy C2 = {accuracy_c2}, Joint accuracy = {accuracy_c1_and_c2}')\n",
    "\n",
    "    return train_losses, test_losses"
   ]
  },
  {
   "cell_type": "code",
   "execution_count": 46,
   "metadata": {},
   "outputs": [
    {
     "name": "stdout",
     "output_type": "stream",
     "text": [
      "Epoch : 0,  train loss:0.030343657069736057, test loss:0.05690069993336996, accuracy C1 = 0.11666666716337204, accuracy C2 = 0.20000000298023224, Joint accuracy = 0.01666666753590107\n",
      "Epoch : 1,  train loss:0.029976860152350533, test loss:0.05683832168579102, accuracy C1 = 0.2666666805744171, accuracy C2 = 0.18333333730697632, Joint accuracy = 0.01666666753590107\n",
      "Epoch : 2,  train loss:0.02985778119828966, test loss:0.056795573234558104, accuracy C1 = 0.2666666805744171, accuracy C2 = 0.13333334028720856, Joint accuracy = 0.03333333507180214\n",
      "Epoch : 3,  train loss:0.029805263413323298, test loss:0.05675716002782186, accuracy C1 = 0.2666666805744171, accuracy C2 = 0.15000000596046448, Joint accuracy = 0.03333333507180214\n",
      "Epoch : 4,  train loss:0.029655545552571615, test loss:0.056681195894877114, accuracy C1 = 0.2666666805744171, accuracy C2 = 0.25, Joint accuracy = 0.06666667014360428\n",
      "Epoch : 5,  train loss:0.02938749207390679, test loss:0.05670412381490072, accuracy C1 = 0.11666666716337204, accuracy C2 = 0.2666666805744171, Joint accuracy = 0.03333333507180214\n",
      "Epoch : 6,  train loss:0.028823518223232692, test loss:0.05661757787068685, accuracy C1 = 0.10000000149011612, accuracy C2 = 0.2666666805744171, Joint accuracy = 0.01666666753590107\n",
      "Epoch : 7,  train loss:0.0280539517932468, test loss:0.05563747088114421, accuracy C1 = 0.11666666716337204, accuracy C2 = 0.3333333432674408, Joint accuracy = 0.05000000074505806\n",
      "Epoch : 8,  train loss:0.027297502093844943, test loss:0.055255802472432454, accuracy C1 = 0.11666666716337204, accuracy C2 = 0.30000001192092896, Joint accuracy = 0.05000000074505806\n",
      "Epoch : 9,  train loss:0.026319266425238717, test loss:0.05389699935913086, accuracy C1 = 0.2666666805744171, accuracy C2 = 0.3499999940395355, Joint accuracy = 0.06666667014360428\n",
      "Epoch : 10,  train loss:0.02517008039686415, test loss:0.05267230669657389, accuracy C1 = 0.25, accuracy C2 = 0.3499999940395355, Joint accuracy = 0.06666667014360428\n",
      "Epoch : 11,  train loss:0.024519038730197482, test loss:0.05243023236592611, accuracy C1 = 0.25, accuracy C2 = 0.28333333134651184, Joint accuracy = 0.03333333507180214\n",
      "Epoch : 12,  train loss:0.023974870575798883, test loss:0.049798353513081865, accuracy C1 = 0.30000001192092896, accuracy C2 = 0.4166666567325592, Joint accuracy = 0.11666666716337204\n",
      "Epoch : 13,  train loss:0.0238295661078559, test loss:0.049521533648173015, accuracy C1 = 0.36666667461395264, accuracy C2 = 0.3333333432674408, Joint accuracy = 0.11666666716337204\n",
      "Epoch : 14,  train loss:0.02280332459343804, test loss:0.05294189453125, accuracy C1 = 0.3333333432674408, accuracy C2 = 0.18333333730697632, Joint accuracy = 0.05000000074505806\n",
      "Epoch : 15,  train loss:0.022498606575859916, test loss:0.05140663385391235, accuracy C1 = 0.3166666626930237, accuracy C2 = 0.3166666626930237, Joint accuracy = 0.06666667014360428\n",
      "Epoch : 16,  train loss:0.02150597360399034, test loss:0.04804811875025431, accuracy C1 = 0.38333332538604736, accuracy C2 = 0.3499999940395355, Joint accuracy = 0.0833333358168602\n",
      "Epoch : 17,  train loss:0.02197765032450358, test loss:0.04589688777923584, accuracy C1 = 0.4000000059604645, accuracy C2 = 0.4333333373069763, Joint accuracy = 0.13333334028720856\n",
      "Epoch : 18,  train loss:0.020534500545925566, test loss:0.05069723129272461, accuracy C1 = 0.3499999940395355, accuracy C2 = 0.3499999940395355, Joint accuracy = 0.0833333358168602\n",
      "Epoch : 19,  train loss:0.019757387373182507, test loss:0.04675207138061523, accuracy C1 = 0.30000001192092896, accuracy C2 = 0.4333333373069763, Joint accuracy = 0.15000000596046448\n",
      "Epoch : 20,  train loss:0.019213797251383464, test loss:0.043316070238749185, accuracy C1 = 0.44999998807907104, accuracy C2 = 0.550000011920929, Joint accuracy = 0.23333333432674408\n",
      "Epoch : 21,  train loss:0.018451956113179523, test loss:0.055300148328145345, accuracy C1 = 0.30000001192092896, accuracy C2 = 0.3333333432674408, Joint accuracy = 0.10000000149011612\n"
     ]
    },
    {
     "ename": "KeyboardInterrupt",
     "evalue": "",
     "output_type": "error",
     "traceback": [
      "\u001b[1;31m---------------------------------------------------------------------------\u001b[0m",
      "\u001b[1;31mKeyboardInterrupt\u001b[0m                         Traceback (most recent call last)",
      "Cell \u001b[1;32mIn[46], line 4\u001b[0m\n\u001b[0;32m      2\u001b[0m model \u001b[38;5;241m=\u001b[39m CNN()\n\u001b[0;32m      3\u001b[0m error \u001b[38;5;241m=\u001b[39m nn\u001b[38;5;241m.\u001b[39mCrossEntropyLoss() \u001b[38;5;66;03m# Loss for multiclass classification\u001b[39;00m\n\u001b[1;32m----> 4\u001b[0m train_losses, test_losses \u001b[38;5;241m=\u001b[39m \u001b[43mfit\u001b[49m\u001b[43m(\u001b[49m\u001b[43mmodel\u001b[49m\u001b[43m,\u001b[49m\u001b[43mtrain_dataloader\u001b[49m\u001b[43m,\u001b[49m\u001b[43m \u001b[49m\u001b[43merror\u001b[49m\u001b[43m,\u001b[49m\u001b[43m \u001b[49m\u001b[43mval_dataloader\u001b[49m\u001b[43m,\u001b[49m\u001b[43m \u001b[49m\u001b[43mepochs\u001b[49m\u001b[43m)\u001b[49m\n",
      "Cell \u001b[1;32mIn[36], line 50\u001b[0m, in \u001b[0;36mfit\u001b[1;34m(model, train_loader, error, test_loader, epochs)\u001b[0m\n\u001b[0;32m     48\u001b[0m     loss \u001b[38;5;241m=\u001b[39m loss_c1 \u001b[38;5;241m+\u001b[39m loss_c2\n\u001b[0;32m     49\u001b[0m     cur_loss\u001b[38;5;241m+\u001b[39m\u001b[38;5;241m=\u001b[39m loss\u001b[38;5;241m.\u001b[39mitem()\n\u001b[1;32m---> 50\u001b[0m     \u001b[43mloss\u001b[49m\u001b[38;5;241;43m.\u001b[39;49m\u001b[43mbackward\u001b[49m\u001b[43m(\u001b[49m\u001b[43m)\u001b[49m\n\u001b[0;32m     51\u001b[0m     optimizer\u001b[38;5;241m.\u001b[39mstep()\n\u001b[0;32m     53\u001b[0m train_losses\u001b[38;5;241m.\u001b[39mappend(cur_loss\u001b[38;5;241m/\u001b[39m\u001b[38;5;28mlen\u001b[39m(train_loader\u001b[38;5;241m.\u001b[39mdataset))\n",
      "File \u001b[1;32mc:\\Users\\Komputer\\AppData\\Local\\Programs\\Python\\Python310\\lib\\site-packages\\torch\\_tensor.py:522\u001b[0m, in \u001b[0;36mTensor.backward\u001b[1;34m(self, gradient, retain_graph, create_graph, inputs)\u001b[0m\n\u001b[0;32m    512\u001b[0m \u001b[38;5;28;01mif\u001b[39;00m has_torch_function_unary(\u001b[38;5;28mself\u001b[39m):\n\u001b[0;32m    513\u001b[0m     \u001b[38;5;28;01mreturn\u001b[39;00m handle_torch_function(\n\u001b[0;32m    514\u001b[0m         Tensor\u001b[38;5;241m.\u001b[39mbackward,\n\u001b[0;32m    515\u001b[0m         (\u001b[38;5;28mself\u001b[39m,),\n\u001b[1;32m   (...)\u001b[0m\n\u001b[0;32m    520\u001b[0m         inputs\u001b[38;5;241m=\u001b[39minputs,\n\u001b[0;32m    521\u001b[0m     )\n\u001b[1;32m--> 522\u001b[0m \u001b[43mtorch\u001b[49m\u001b[38;5;241;43m.\u001b[39;49m\u001b[43mautograd\u001b[49m\u001b[38;5;241;43m.\u001b[39;49m\u001b[43mbackward\u001b[49m\u001b[43m(\u001b[49m\n\u001b[0;32m    523\u001b[0m \u001b[43m    \u001b[49m\u001b[38;5;28;43mself\u001b[39;49m\u001b[43m,\u001b[49m\u001b[43m \u001b[49m\u001b[43mgradient\u001b[49m\u001b[43m,\u001b[49m\u001b[43m \u001b[49m\u001b[43mretain_graph\u001b[49m\u001b[43m,\u001b[49m\u001b[43m \u001b[49m\u001b[43mcreate_graph\u001b[49m\u001b[43m,\u001b[49m\u001b[43m \u001b[49m\u001b[43minputs\u001b[49m\u001b[38;5;241;43m=\u001b[39;49m\u001b[43minputs\u001b[49m\n\u001b[0;32m    524\u001b[0m \u001b[43m\u001b[49m\u001b[43m)\u001b[49m\n",
      "File \u001b[1;32mc:\\Users\\Komputer\\AppData\\Local\\Programs\\Python\\Python310\\lib\\site-packages\\torch\\autograd\\__init__.py:266\u001b[0m, in \u001b[0;36mbackward\u001b[1;34m(tensors, grad_tensors, retain_graph, create_graph, grad_variables, inputs)\u001b[0m\n\u001b[0;32m    261\u001b[0m     retain_graph \u001b[38;5;241m=\u001b[39m create_graph\n\u001b[0;32m    263\u001b[0m \u001b[38;5;66;03m# The reason we repeat the same comment below is that\u001b[39;00m\n\u001b[0;32m    264\u001b[0m \u001b[38;5;66;03m# some Python versions print out the first line of a multi-line function\u001b[39;00m\n\u001b[0;32m    265\u001b[0m \u001b[38;5;66;03m# calls in the traceback and some print out the last line\u001b[39;00m\n\u001b[1;32m--> 266\u001b[0m \u001b[43mVariable\u001b[49m\u001b[38;5;241;43m.\u001b[39;49m\u001b[43m_execution_engine\u001b[49m\u001b[38;5;241;43m.\u001b[39;49m\u001b[43mrun_backward\u001b[49m\u001b[43m(\u001b[49m\u001b[43m  \u001b[49m\u001b[38;5;66;43;03m# Calls into the C++ engine to run the backward pass\u001b[39;49;00m\n\u001b[0;32m    267\u001b[0m \u001b[43m    \u001b[49m\u001b[43mtensors\u001b[49m\u001b[43m,\u001b[49m\n\u001b[0;32m    268\u001b[0m \u001b[43m    \u001b[49m\u001b[43mgrad_tensors_\u001b[49m\u001b[43m,\u001b[49m\n\u001b[0;32m    269\u001b[0m \u001b[43m    \u001b[49m\u001b[43mretain_graph\u001b[49m\u001b[43m,\u001b[49m\n\u001b[0;32m    270\u001b[0m \u001b[43m    \u001b[49m\u001b[43mcreate_graph\u001b[49m\u001b[43m,\u001b[49m\n\u001b[0;32m    271\u001b[0m \u001b[43m    \u001b[49m\u001b[43minputs\u001b[49m\u001b[43m,\u001b[49m\n\u001b[0;32m    272\u001b[0m \u001b[43m    \u001b[49m\u001b[43mallow_unreachable\u001b[49m\u001b[38;5;241;43m=\u001b[39;49m\u001b[38;5;28;43;01mTrue\u001b[39;49;00m\u001b[43m,\u001b[49m\n\u001b[0;32m    273\u001b[0m \u001b[43m    \u001b[49m\u001b[43maccumulate_grad\u001b[49m\u001b[38;5;241;43m=\u001b[39;49m\u001b[38;5;28;43;01mTrue\u001b[39;49;00m\u001b[43m,\u001b[49m\n\u001b[0;32m    274\u001b[0m \u001b[43m\u001b[49m\u001b[43m)\u001b[49m\n",
      "\u001b[1;31mKeyboardInterrupt\u001b[0m: "
     ]
    }
   ],
   "source": [
    "epochs = 50\n",
    "model = CNN()\n",
    "error = nn.CrossEntropyLoss() # Loss for multiclass classification\n",
    "train_losses, test_losses = fit(model,train_dataloader, error, val_dataloader, epochs)"
   ]
  },
  {
   "cell_type": "markdown",
   "metadata": {},
   "source": [
    "Chack if new version was uploaded"
   ]
  },
  {
   "cell_type": "code",
   "execution_count": 48,
   "metadata": {},
   "outputs": [
    {
     "data": {
      "text/plain": [
       "<Figure size 640x480 with 0 Axes>"
      ]
     },
     "execution_count": 48,
     "metadata": {},
     "output_type": "execute_result"
    },
    {
     "data": {
      "image/png": "[encoded data removed]",
      "text/plain": [
       "<Figure size 640x480 with 1 Axes>"
      ]
     },
     "metadata": {},
     "output_type": "display_data"
    },
    {
     "data": {
      "text/plain": [
       "<Figure size 640x480 with 0 Axes>"
      ]
     },
     "metadata": {},
     "output_type": "display_data"
    }
   ],
   "source": [
    "import matplotlib.pyplot as plt\n",
    "plt.plot(train_losses,label=\"training loss\")\n",
    "plt.plot(test_losses,label=\"testing loss\")\n",
    "plt.legend(fontsize=15)\n",
    "plt.xlabel('Epoch', fontsize=20)\n",
    "plt.ylabel('Loss', fontsize=20)\n",
    "plt.xticks(fontsize=15)\n",
    "plt.yticks(fontsize=15)\n",
    "plt.figure()"
   ]
  }
 ],
 "metadata": {
  "kernelspec": {
   "display_name": "Python 3",
   "language": "python",
   "name": "python3"
  },
  "language_info": {
   "codemirror_mode": {
    "name": "ipython",
    "version": 3
   },
   "file_extension": ".py",
   "mimetype": "text/x-python",
   "name": "python",
   "nbconvert_exporter": "python",
   "pygments_lexer": "ipython3",
   "version": "3.10.3"
  }
 },
 "nbformat": 4,
 "nbformat_minor": 2
}
